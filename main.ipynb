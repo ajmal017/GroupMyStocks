{
 "metadata": {
  "language_info": {
   "codemirror_mode": {
    "name": "ipython",
    "version": 3
   },
   "file_extension": ".py",
   "mimetype": "text/x-python",
   "name": "python",
   "nbconvert_exporter": "python",
   "pygments_lexer": "ipython3",
   "version": "3.8.3-final"
  },
  "orig_nbformat": 2,
  "kernelspec": {
   "name": "python3",
   "display_name": "Python 3"
  }
 },
 "nbformat": 4,
 "nbformat_minor": 2,
 "cells": [
  {
   "cell_type": "code",
   "execution_count": 1,
   "metadata": {},
   "outputs": [],
   "source": [
    "from groupstock import print_stocks_list\n",
    "import webbrowser"
   ]
  },
  {
   "source": [
    "# Edit Stock List"
   ],
   "cell_type": "markdown",
   "metadata": {}
  },
  {
   "cell_type": "code",
   "execution_count": 2,
   "metadata": {},
   "outputs": [],
   "source": [
    "\n",
    "StockLists={\n",
    "    \"Automotive\": [\"TM\",\"TSLA\",\"GM\",\"NIO\"],\n",
    "    \"Tech Giant\": [\"AMZN\",\"GOOGL\",\"FB\",\"MSFT\",\"AAPL\"],\n",
    "    \"Bank\": [\"BAC\",\"HDB\"]\n",
    "}"
   ]
  },
  {
   "source": [
    "# Data Processing"
   ],
   "cell_type": "markdown",
   "metadata": {}
  },
  {
   "cell_type": "code",
   "execution_count": 3,
   "metadata": {},
   "outputs": [],
   "source": [
    "htmlName='StockReport.html'\n",
    "htmlBody = print_stocks_list(StockLists,htmlName)"
   ]
  },
  {
   "source": [
    "# Save HTML file and open with browser"
   ],
   "cell_type": "markdown",
   "metadata": {}
  },
  {
   "cell_type": "code",
   "execution_count": 4,
   "metadata": {},
   "outputs": [
    {
     "output_type": "execute_result",
     "data": {
      "text/plain": [
       "True"
      ]
     },
     "metadata": {},
     "execution_count": 4
    }
   ],
   "source": [
    "htmlName='StockReport.html'\n",
    "f = open(htmlName, \"w\")\n",
    "f.write(htmlBody)\n",
    "f.close()\n",
    "webbrowser.open_new_tab(('file://' + os.path.realpath(htmlName)))"
   ]
  }
 ]
}